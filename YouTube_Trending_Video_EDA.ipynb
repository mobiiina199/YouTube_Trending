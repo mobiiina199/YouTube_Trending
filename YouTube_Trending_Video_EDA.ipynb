{
  "nbformat": 4,
  "nbformat_minor": 0,
  "metadata": {
    "colab": {
      "provenance": []
    },
    "kernelspec": {
      "display_name": "Python 3",
      "name": "python3"
    }
  },
  "cells": [
    {
      "cell_type": "code",
      "metadata": {
        "id": "Q7_BJSuy9_zH"
      },
      "source": [
        "import pandas as pd\n",
        "import numpy as np\n",
        "import seaborn as sns\n",
        "import json\n",
        "import matplotlib.pyplot as plt\n",
        "from wordcloud import WordCloud, STOPWORDS\n",
        "from datetime import datetime, date, time\n"
      ],
      "execution_count": null,
      "outputs": []
    },
    {
      "cell_type": "code",
      "metadata": {
        "id": "WmwBoyMJ7dCR"
      },
      "source": [
        "df= pd.read_csv('/content/drive/My Drive/YouTube Trending Video Statistics./DEvideos.csv')\n",
        "categories_df = pd.read_json('/content/drive/My Drive/YouTube Trending Video Statistics./DE_category_id.json')"
      ],
      "execution_count": null,
      "outputs": []
    },
    {
      "cell_type": "code",
      "metadata": {
        "id": "M89Lzh9XU-RL",
        "outputId": "3a25e58c-d518-45c8-d930-37c72051fe75",
        "colab": {
          "base_uri": "https://localhost:8080/",
          "height": 416
        }
      },
      "source": [
        "df['category_id'] =df['category_id'].astype(str)\n",
        "df.info()"
      ],
      "execution_count": null,
      "outputs": [
        {
          "output_type": "stream",
          "text": [
            "<class 'pandas.core.frame.DataFrame'>\n",
            "RangeIndex: 40840 entries, 0 to 40839\n",
            "Data columns (total 16 columns):\n",
            " #   Column                  Non-Null Count  Dtype \n",
            "---  ------                  --------------  ----- \n",
            " 0   video_id                40840 non-null  object\n",
            " 1   trending_date           40840 non-null  object\n",
            " 2   title                   40840 non-null  object\n",
            " 3   channel_title           40840 non-null  object\n",
            " 4   category_id             40840 non-null  object\n",
            " 5   publish_time            40840 non-null  object\n",
            " 6   tags                    40840 non-null  object\n",
            " 7   views                   40840 non-null  int64 \n",
            " 8   likes                   40840 non-null  int64 \n",
            " 9   dislikes                40840 non-null  int64 \n",
            " 10  comment_count           40840 non-null  int64 \n",
            " 11  thumbnail_link          40840 non-null  object\n",
            " 12  comments_disabled       40840 non-null  bool  \n",
            " 13  ratings_disabled        40840 non-null  bool  \n",
            " 14  video_error_or_removed  40840 non-null  bool  \n",
            " 15  description             39288 non-null  object\n",
            "dtypes: bool(3), int64(4), object(9)\n",
            "memory usage: 4.2+ MB\n"
          ],
          "name": "stdout"
        }
      ]
    },
    {
      "cell_type": "code",
      "metadata": {
        "id": "74EWmCen6LpZ"
      },
      "source": [
        "id_to_category = {}\n",
        "for category in categories_df['items']:\n",
        "  id_to_category[category['id']] = category['snippet']['title']\n",
        "\n",
        "df.insert(4,'category',df['category_id'].map(id_to_category))"
      ],
      "execution_count": null,
      "outputs": []
    },
    {
      "cell_type": "code",
      "metadata": {
        "id": "B5LmD5pYDyOC",
        "outputId": "c95904fa-3091-47c7-d64f-824b81cee03e",
        "colab": {
          "base_uri": "https://localhost:8080/",
          "height": 642
        }
      },
      "source": [
        "df.head().T"
      ],
      "execution_count": null,
      "outputs": [
        {
          "output_type": "execute_result",
          "data": {
            "text/html": [
              "<div>\n",
              "<style scoped>\n",
              "    .dataframe tbody tr th:only-of-type {\n",
              "        vertical-align: middle;\n",
              "    }\n",
              "\n",
              "    .dataframe tbody tr th {\n",
              "        vertical-align: top;\n",
              "    }\n",
              "\n",
              "    .dataframe thead th {\n",
              "        text-align: right;\n",
              "    }\n",
              "</style>\n",
              "<table border=\"1\" class=\"dataframe\">\n",
              "  <thead>\n",
              "    <tr style=\"text-align: right;\">\n",
              "      <th></th>\n",
              "      <th>0</th>\n",
              "      <th>1</th>\n",
              "      <th>2</th>\n",
              "      <th>3</th>\n",
              "      <th>4</th>\n",
              "    </tr>\n",
              "  </thead>\n",
              "  <tbody>\n",
              "    <tr>\n",
              "      <th>video_id</th>\n",
              "      <td>LgVi6y5QIjM</td>\n",
              "      <td>Bayt7uQith4</td>\n",
              "      <td>1ZAPwfrtAFY</td>\n",
              "      <td>AHtypnRk7JE</td>\n",
              "      <td>ZJ9We4bjcg0</td>\n",
              "    </tr>\n",
              "    <tr>\n",
              "      <th>trending_date</th>\n",
              "      <td>17.14.11</td>\n",
              "      <td>17.14.11</td>\n",
              "      <td>17.14.11</td>\n",
              "      <td>17.14.11</td>\n",
              "      <td>17.14.11</td>\n",
              "    </tr>\n",
              "    <tr>\n",
              "      <th>title</th>\n",
              "      <td>Sing zu Ende! | Gesangseinlagen vom Feinsten |...</td>\n",
              "      <td>Kinder ferngesteuert im Kiosk! Erwachsene abzo...</td>\n",
              "      <td>The Trump Presidency: Last Week Tonight with J...</td>\n",
              "      <td>Das Fermi-Paradoxon</td>\n",
              "      <td>18 SONGS mit Kelly MissesVlog (Sing-off)</td>\n",
              "    </tr>\n",
              "    <tr>\n",
              "      <th>channel_title</th>\n",
              "      <td>inscope21</td>\n",
              "      <td>LUKE! Die Woche und ich</td>\n",
              "      <td>LastWeekTonight</td>\n",
              "      <td>100SekundenPhysik</td>\n",
              "      <td>rezo</td>\n",
              "    </tr>\n",
              "    <tr>\n",
              "      <th>category</th>\n",
              "      <td>Entertainment</td>\n",
              "      <td>Comedy</td>\n",
              "      <td>Entertainment</td>\n",
              "      <td>Education</td>\n",
              "      <td>Entertainment</td>\n",
              "    </tr>\n",
              "    <tr>\n",
              "      <th>category_id</th>\n",
              "      <td>24</td>\n",
              "      <td>23</td>\n",
              "      <td>24</td>\n",
              "      <td>27</td>\n",
              "      <td>24</td>\n",
              "    </tr>\n",
              "    <tr>\n",
              "      <th>publish_time</th>\n",
              "      <td>2017-11-13T17:08:49.000Z</td>\n",
              "      <td>2017-11-12T22:30:01.000Z</td>\n",
              "      <td>2017-11-13T07:30:00.000Z</td>\n",
              "      <td>2017-11-12T15:00:01.000Z</td>\n",
              "      <td>2017-11-12T13:10:36.000Z</td>\n",
              "    </tr>\n",
              "    <tr>\n",
              "      <th>tags</th>\n",
              "      <td>inscope21|\"sing zu ende\"|\"gesangseinlagen\"|\"ge...</td>\n",
              "      <td>Kinder|\"ferngesteuert\"|\"Kinder ferngesteuert\"|...</td>\n",
              "      <td>last week tonight trump presidency|\"last week ...</td>\n",
              "      <td>Physik|\"Wissenschaft\"|\"Technik\"|\"Science-Ficti...</td>\n",
              "      <td>kelly|\"missesvlog\"|\"kelly song\"|\"bausa\"|\"bausa...</td>\n",
              "    </tr>\n",
              "    <tr>\n",
              "      <th>views</th>\n",
              "      <td>252786</td>\n",
              "      <td>797196</td>\n",
              "      <td>2418783</td>\n",
              "      <td>380247</td>\n",
              "      <td>822213</td>\n",
              "    </tr>\n",
              "    <tr>\n",
              "      <th>likes</th>\n",
              "      <td>35885</td>\n",
              "      <td>53576</td>\n",
              "      <td>97190</td>\n",
              "      <td>31821</td>\n",
              "      <td>100684</td>\n",
              "    </tr>\n",
              "    <tr>\n",
              "      <th>dislikes</th>\n",
              "      <td>230</td>\n",
              "      <td>302</td>\n",
              "      <td>6146</td>\n",
              "      <td>458</td>\n",
              "      <td>2467</td>\n",
              "    </tr>\n",
              "    <tr>\n",
              "      <th>comment_count</th>\n",
              "      <td>1539</td>\n",
              "      <td>1278</td>\n",
              "      <td>12703</td>\n",
              "      <td>1955</td>\n",
              "      <td>10244</td>\n",
              "    </tr>\n",
              "    <tr>\n",
              "      <th>thumbnail_link</th>\n",
              "      <td>https://i.ytimg.com/vi/LgVi6y5QIjM/default.jpg</td>\n",
              "      <td>https://i.ytimg.com/vi/Bayt7uQith4/default.jpg</td>\n",
              "      <td>https://i.ytimg.com/vi/1ZAPwfrtAFY/default.jpg</td>\n",
              "      <td>https://i.ytimg.com/vi/AHtypnRk7JE/default.jpg</td>\n",
              "      <td>https://i.ytimg.com/vi/ZJ9We4bjcg0/default.jpg</td>\n",
              "    </tr>\n",
              "    <tr>\n",
              "      <th>comments_disabled</th>\n",
              "      <td>False</td>\n",
              "      <td>False</td>\n",
              "      <td>False</td>\n",
              "      <td>False</td>\n",
              "      <td>False</td>\n",
              "    </tr>\n",
              "    <tr>\n",
              "      <th>ratings_disabled</th>\n",
              "      <td>False</td>\n",
              "      <td>False</td>\n",
              "      <td>False</td>\n",
              "      <td>False</td>\n",
              "      <td>False</td>\n",
              "    </tr>\n",
              "    <tr>\n",
              "      <th>video_error_or_removed</th>\n",
              "      <td>False</td>\n",
              "      <td>False</td>\n",
              "      <td>False</td>\n",
              "      <td>False</td>\n",
              "      <td>False</td>\n",
              "    </tr>\n",
              "    <tr>\n",
              "      <th>description</th>\n",
              "      <td>Heute gibt es mal wieder ein neues Format... w...</td>\n",
              "      <td>Kinder ferngesteuert! Kinder lassen sich sooo ...</td>\n",
              "      <td>One year after the presidential election, John...</td>\n",
              "      <td>►Alle Videos: http://bit.ly/1fa7Tw3\\n\\n\\n✚Snap...</td>\n",
              "      <td>18 Song Mashup über den (veränderten) Beat von...</td>\n",
              "    </tr>\n",
              "  </tbody>\n",
              "</table>\n",
              "</div>"
            ],
            "text/plain": [
              "                                                                        0  ...                                                  4\n",
              "video_id                                                      LgVi6y5QIjM  ...                                        ZJ9We4bjcg0\n",
              "trending_date                                                    17.14.11  ...                                           17.14.11\n",
              "title                   Sing zu Ende! | Gesangseinlagen vom Feinsten |...  ...           18 SONGS mit Kelly MissesVlog (Sing-off)\n",
              "channel_title                                                   inscope21  ...                                               rezo\n",
              "category                                                    Entertainment  ...                                      Entertainment\n",
              "category_id                                                            24  ...                                                 24\n",
              "publish_time                                     2017-11-13T17:08:49.000Z  ...                           2017-11-12T13:10:36.000Z\n",
              "tags                    inscope21|\"sing zu ende\"|\"gesangseinlagen\"|\"ge...  ...  kelly|\"missesvlog\"|\"kelly song\"|\"bausa\"|\"bausa...\n",
              "views                                                              252786  ...                                             822213\n",
              "likes                                                               35885  ...                                             100684\n",
              "dislikes                                                              230  ...                                               2467\n",
              "comment_count                                                        1539  ...                                              10244\n",
              "thumbnail_link             https://i.ytimg.com/vi/LgVi6y5QIjM/default.jpg  ...     https://i.ytimg.com/vi/ZJ9We4bjcg0/default.jpg\n",
              "comments_disabled                                                   False  ...                                              False\n",
              "ratings_disabled                                                    False  ...                                              False\n",
              "video_error_or_removed                                              False  ...                                              False\n",
              "description             Heute gibt es mal wieder ein neues Format... w...  ...  18 Song Mashup über den (veränderten) Beat von...\n",
              "\n",
              "[17 rows x 5 columns]"
            ]
          },
          "metadata": {
            "tags": []
          },
          "execution_count": 6
        }
      ]
    },
    {
      "cell_type": "markdown",
      "metadata": {
        "id": "7aJ1g1TNIBjd"
      },
      "source": [
        "View the description of the data below, including the type of each attribute:"
      ]
    },
    {
      "cell_type": "code",
      "metadata": {
        "id": "ROYc-hAtD91L",
        "outputId": "5a749d49-efb0-4b63-e2b5-906a91b5312a",
        "colab": {
          "base_uri": "https://localhost:8080/",
          "height": 433
        }
      },
      "source": [
        "df.info()"
      ],
      "execution_count": null,
      "outputs": [
        {
          "output_type": "stream",
          "text": [
            "<class 'pandas.core.frame.DataFrame'>\n",
            "RangeIndex: 40840 entries, 0 to 40839\n",
            "Data columns (total 17 columns):\n",
            " #   Column                  Non-Null Count  Dtype \n",
            "---  ------                  --------------  ----- \n",
            " 0   video_id                40840 non-null  object\n",
            " 1   trending_date           40840 non-null  object\n",
            " 2   title                   40840 non-null  object\n",
            " 3   channel_title           40840 non-null  object\n",
            " 4   category                40584 non-null  object\n",
            " 5   category_id             40840 non-null  object\n",
            " 6   publish_time            40840 non-null  object\n",
            " 7   tags                    40840 non-null  object\n",
            " 8   views                   40840 non-null  int64 \n",
            " 9   likes                   40840 non-null  int64 \n",
            " 10  dislikes                40840 non-null  int64 \n",
            " 11  comment_count           40840 non-null  int64 \n",
            " 12  thumbnail_link          40840 non-null  object\n",
            " 13  comments_disabled       40840 non-null  bool  \n",
            " 14  ratings_disabled        40840 non-null  bool  \n",
            " 15  video_error_or_removed  40840 non-null  bool  \n",
            " 16  description             39288 non-null  object\n",
            "dtypes: bool(3), int64(4), object(10)\n",
            "memory usage: 4.5+ MB\n"
          ],
          "name": "stdout"
        }
      ]
    },
    {
      "cell_type": "markdown",
      "metadata": {
        "id": "LlpO1CVHFa_b"
      },
      "source": [
        "**describe** method is used for calculating some statistical data like percentile, mean and std of the numerical values of the Series or DataFrame. It analyzes both numeric and object series and also the DataFrame column sets of mixed data types."
      ]
    },
    {
      "cell_type": "code",
      "metadata": {
        "id": "RugAxYr3GfnM",
        "outputId": "8e95cecb-776d-4dad-aabc-d88404fbac78",
        "colab": {
          "base_uri": "https://localhost:8080/",
          "height": 294
        }
      },
      "source": [
        "df.describe()"
      ],
      "execution_count": null,
      "outputs": [
        {
          "output_type": "execute_result",
          "data": {
            "text/html": [
              "<div>\n",
              "<style scoped>\n",
              "    .dataframe tbody tr th:only-of-type {\n",
              "        vertical-align: middle;\n",
              "    }\n",
              "\n",
              "    .dataframe tbody tr th {\n",
              "        vertical-align: top;\n",
              "    }\n",
              "\n",
              "    .dataframe thead th {\n",
              "        text-align: right;\n",
              "    }\n",
              "</style>\n",
              "<table border=\"1\" class=\"dataframe\">\n",
              "  <thead>\n",
              "    <tr style=\"text-align: right;\">\n",
              "      <th></th>\n",
              "      <th>views</th>\n",
              "      <th>likes</th>\n",
              "      <th>dislikes</th>\n",
              "      <th>comment_count</th>\n",
              "    </tr>\n",
              "  </thead>\n",
              "  <tbody>\n",
              "    <tr>\n",
              "      <th>count</th>\n",
              "      <td>4.084000e+04</td>\n",
              "      <td>4.084000e+04</td>\n",
              "      <td>4.084000e+04</td>\n",
              "      <td>4.084000e+04</td>\n",
              "    </tr>\n",
              "    <tr>\n",
              "      <th>mean</th>\n",
              "      <td>6.034553e+05</td>\n",
              "      <td>2.187550e+04</td>\n",
              "      <td>1.397136e+03</td>\n",
              "      <td>2.785857e+03</td>\n",
              "    </tr>\n",
              "    <tr>\n",
              "      <th>std</th>\n",
              "      <td>2.348963e+06</td>\n",
              "      <td>1.018000e+05</td>\n",
              "      <td>1.457738e+04</td>\n",
              "      <td>1.745803e+04</td>\n",
              "    </tr>\n",
              "    <tr>\n",
              "      <th>min</th>\n",
              "      <td>5.180000e+02</td>\n",
              "      <td>0.000000e+00</td>\n",
              "      <td>0.000000e+00</td>\n",
              "      <td>0.000000e+00</td>\n",
              "    </tr>\n",
              "    <tr>\n",
              "      <th>25%</th>\n",
              "      <td>2.706875e+04</td>\n",
              "      <td>5.330000e+02</td>\n",
              "      <td>2.900000e+01</td>\n",
              "      <td>7.900000e+01</td>\n",
              "    </tr>\n",
              "    <tr>\n",
              "      <th>50%</th>\n",
              "      <td>1.192770e+05</td>\n",
              "      <td>2.699000e+03</td>\n",
              "      <td>1.340000e+02</td>\n",
              "      <td>3.760000e+02</td>\n",
              "    </tr>\n",
              "    <tr>\n",
              "      <th>75%</th>\n",
              "      <td>4.431015e+05</td>\n",
              "      <td>1.179625e+04</td>\n",
              "      <td>5.320000e+02</td>\n",
              "      <td>1.376000e+03</td>\n",
              "    </tr>\n",
              "    <tr>\n",
              "      <th>max</th>\n",
              "      <td>1.138762e+08</td>\n",
              "      <td>4.924056e+06</td>\n",
              "      <td>1.470386e+06</td>\n",
              "      <td>1.084435e+06</td>\n",
              "    </tr>\n",
              "  </tbody>\n",
              "</table>\n",
              "</div>"
            ],
            "text/plain": [
              "              views         likes      dislikes  comment_count\n",
              "count  4.084000e+04  4.084000e+04  4.084000e+04   4.084000e+04\n",
              "mean   6.034553e+05  2.187550e+04  1.397136e+03   2.785857e+03\n",
              "std    2.348963e+06  1.018000e+05  1.457738e+04   1.745803e+04\n",
              "min    5.180000e+02  0.000000e+00  0.000000e+00   0.000000e+00\n",
              "25%    2.706875e+04  5.330000e+02  2.900000e+01   7.900000e+01\n",
              "50%    1.192770e+05  2.699000e+03  1.340000e+02   3.760000e+02\n",
              "75%    4.431015e+05  1.179625e+04  5.320000e+02   1.376000e+03\n",
              "max    1.138762e+08  4.924056e+06  1.470386e+06   1.084435e+06"
            ]
          },
          "metadata": {
            "tags": []
          },
          "execution_count": 8
        }
      ]
    },
    {
      "cell_type": "code",
      "metadata": {
        "id": "mciPaC-dG9wf",
        "outputId": "d91edd05-7a8b-4630-f031-75d34d91c403",
        "colab": {
          "base_uri": "https://localhost:8080/",
          "height": 356
        }
      },
      "source": [
        "df.describe(include=\"O\").T"
      ],
      "execution_count": null,
      "outputs": [
        {
          "output_type": "execute_result",
          "data": {
            "text/html": [
              "<div>\n",
              "<style scoped>\n",
              "    .dataframe tbody tr th:only-of-type {\n",
              "        vertical-align: middle;\n",
              "    }\n",
              "\n",
              "    .dataframe tbody tr th {\n",
              "        vertical-align: top;\n",
              "    }\n",
              "\n",
              "    .dataframe thead th {\n",
              "        text-align: right;\n",
              "    }\n",
              "</style>\n",
              "<table border=\"1\" class=\"dataframe\">\n",
              "  <thead>\n",
              "    <tr style=\"text-align: right;\">\n",
              "      <th></th>\n",
              "      <th>count</th>\n",
              "      <th>unique</th>\n",
              "      <th>top</th>\n",
              "      <th>freq</th>\n",
              "    </tr>\n",
              "  </thead>\n",
              "  <tbody>\n",
              "    <tr>\n",
              "      <th>video_id</th>\n",
              "      <td>40840</td>\n",
              "      <td>29627</td>\n",
              "      <td>pk0iqFne5eU</td>\n",
              "      <td>7</td>\n",
              "    </tr>\n",
              "    <tr>\n",
              "      <th>trending_date</th>\n",
              "      <td>40840</td>\n",
              "      <td>205</td>\n",
              "      <td>18.19.02</td>\n",
              "      <td>200</td>\n",
              "    </tr>\n",
              "    <tr>\n",
              "      <th>title</th>\n",
              "      <td>40840</td>\n",
              "      <td>29682</td>\n",
              "      <td>Nur 2% aller Menschen schaffen diese 5 Rätsel..</td>\n",
              "      <td>20</td>\n",
              "    </tr>\n",
              "    <tr>\n",
              "      <th>channel_title</th>\n",
              "      <td>40840</td>\n",
              "      <td>6085</td>\n",
              "      <td>Galileo</td>\n",
              "      <td>200</td>\n",
              "    </tr>\n",
              "    <tr>\n",
              "      <th>category</th>\n",
              "      <td>40584</td>\n",
              "      <td>17</td>\n",
              "      <td>Entertainment</td>\n",
              "      <td>15292</td>\n",
              "    </tr>\n",
              "    <tr>\n",
              "      <th>category_id</th>\n",
              "      <td>40840</td>\n",
              "      <td>18</td>\n",
              "      <td>24</td>\n",
              "      <td>15292</td>\n",
              "    </tr>\n",
              "    <tr>\n",
              "      <th>publish_time</th>\n",
              "      <td>40840</td>\n",
              "      <td>28261</td>\n",
              "      <td>2017-12-15T05:00:00.000Z</td>\n",
              "      <td>10</td>\n",
              "    </tr>\n",
              "    <tr>\n",
              "      <th>tags</th>\n",
              "      <td>40840</td>\n",
              "      <td>23557</td>\n",
              "      <td>[none]</td>\n",
              "      <td>3031</td>\n",
              "    </tr>\n",
              "    <tr>\n",
              "      <th>thumbnail_link</th>\n",
              "      <td>40840</td>\n",
              "      <td>29626</td>\n",
              "      <td>https://i.ytimg.com/vi/pk0iqFne5eU/default.jpg</td>\n",
              "      <td>7</td>\n",
              "    </tr>\n",
              "    <tr>\n",
              "      <th>description</th>\n",
              "      <td>39288</td>\n",
              "      <td>25617</td>\n",
              "      <td>Новости БЕЗ нашего мнения - http://sharij.net/...</td>\n",
              "      <td>116</td>\n",
              "    </tr>\n",
              "  </tbody>\n",
              "</table>\n",
              "</div>"
            ],
            "text/plain": [
              "                count  ...   freq\n",
              "video_id        40840  ...      7\n",
              "trending_date   40840  ...    200\n",
              "title           40840  ...     20\n",
              "channel_title   40840  ...    200\n",
              "category        40584  ...  15292\n",
              "category_id     40840  ...  15292\n",
              "publish_time    40840  ...     10\n",
              "tags            40840  ...   3031\n",
              "thumbnail_link  40840  ...      7\n",
              "description     39288  ...    116\n",
              "\n",
              "[10 rows x 4 columns]"
            ]
          },
          "metadata": {
            "tags": []
          },
          "execution_count": 9
        }
      ]
    },
    {
      "cell_type": "code",
      "metadata": {
        "id": "s946D3BWIRVE",
        "outputId": "3cd8f657-07db-4b03-9de6-59a49185fb9b",
        "colab": {
          "base_uri": "https://localhost:8080/",
          "height": 557
        }
      },
      "source": [
        "print (\"\\n\\nRows     : \" ,df.shape[0])\n",
        "print (\"\\nColumns  : \" ,df.shape[1])\n",
        "print (\"\\nFeatures : \\n\" ,df.columns.tolist())\n",
        "print (\"\\nMissing values :  \", df.isnull().sum().values.sum())\n",
        "print (\"\\nUnique values :  \\n\",df.nunique())"
      ],
      "execution_count": null,
      "outputs": [
        {
          "output_type": "stream",
          "text": [
            "\n",
            "\n",
            "Rows     :  40840\n",
            "\n",
            "Columns  :  17\n",
            "\n",
            "Features : \n",
            " ['video_id', 'trending_date', 'title', 'channel_title', 'category', 'category_id', 'publish_time', 'tags', 'views', 'likes', 'dislikes', 'comment_count', 'thumbnail_link', 'comments_disabled', 'ratings_disabled', 'video_error_or_removed', 'description']\n",
            "\n",
            "Missing values :   1808\n",
            "\n",
            "Unique values :  \n",
            " video_id                  29627\n",
            "trending_date               205\n",
            "title                     29682\n",
            "channel_title              6085\n",
            "category                     17\n",
            "category_id                  18\n",
            "publish_time              28261\n",
            "tags                      23557\n",
            "views                     37916\n",
            "likes                     17793\n",
            "dislikes                   5108\n",
            "comment_count              7579\n",
            "thumbnail_link            29626\n",
            "comments_disabled             2\n",
            "ratings_disabled              2\n",
            "video_error_or_removed        2\n",
            "description               25617\n",
            "dtype: int64\n"
          ],
          "name": "stdout"
        }
      ]
    },
    {
      "cell_type": "code",
      "metadata": {
        "id": "btjBotKpIqbN",
        "outputId": "0869c499-08c7-4b5d-a003-05369f5ee698",
        "colab": {
          "base_uri": "https://localhost:8080/",
          "height": 329
        }
      },
      "source": [
        "df.isnull().sum()"
      ],
      "execution_count": null,
      "outputs": [
        {
          "output_type": "execute_result",
          "data": {
            "text/plain": [
              "video_id                     0\n",
              "trending_date                0\n",
              "title                        0\n",
              "channel_title                0\n",
              "category                   256\n",
              "category_id                  0\n",
              "publish_time                 0\n",
              "tags                         0\n",
              "views                        0\n",
              "likes                        0\n",
              "dislikes                     0\n",
              "comment_count                0\n",
              "thumbnail_link               0\n",
              "comments_disabled            0\n",
              "ratings_disabled             0\n",
              "video_error_or_removed       0\n",
              "description               1552\n",
              "dtype: int64"
            ]
          },
          "metadata": {
            "tags": []
          },
          "execution_count": 11
        }
      ]
    },
    {
      "cell_type": "markdown",
      "metadata": {
        "id": "7fVv712PJhZZ"
      },
      "source": [
        "So we have:\n",
        "\n",
        "40840 rows and 16 columns\n",
        "\n",
        "Publish Time column with data type : Object\n",
        "\n",
        "Missing values in the description column\n",
        "\n",
        "205 unique days"
      ]
    },
    {
      "cell_type": "code",
      "metadata": {
        "id": "Oos6N_S8Nv5W",
        "outputId": "721b4f8a-5cb8-4c2a-9eda-3444ce2c1df3",
        "colab": {
          "base_uri": "https://localhost:8080/",
          "height": 34
        }
      },
      "source": [
        "df= df.drop_duplicates(keep = 'first')\n",
        "df.shape"
      ],
      "execution_count": null,
      "outputs": [
        {
          "output_type": "execute_result",
          "data": {
            "text/plain": [
              "(40840, 17)"
            ]
          },
          "metadata": {
            "tags": []
          },
          "execution_count": 12
        }
      ]
    },
    {
      "cell_type": "code",
      "metadata": {
        "id": "MWgp13cROlpN"
      },
      "source": [
        "df[\"trending_date\"]=df[\"trending_date\"].map( lambda x: datetime.strptime(str(x),\"%y.%d.%m\"))\n",
        "df['publish_time'] =df['publish_time'].map(lambda x: datetime.strptime(str(x),'%Y-%m-%dT%H:%M:%S.%fZ'))"
      ],
      "execution_count": null,
      "outputs": []
    },
    {
      "cell_type": "code",
      "metadata": {
        "id": "RmlcDWfuIrYE"
      },
      "source": [
        "df['publish_hour']=df['publish_time'].map(lambda x:  x.hour)\n",
        "df['publish_date']=df['publish_time'].map(lambda x:  x.date())"
      ],
      "execution_count": null,
      "outputs": []
    },
    {
      "cell_type": "code",
      "metadata": {
        "id": "KtEuiWeHHbJ7",
        "outputId": "e51f72e6-684b-495a-853b-a167ee355ae6",
        "colab": {
          "base_uri": "https://localhost:8080/",
          "height": 225
        }
      },
      "source": [
        "df['publish_date']"
      ],
      "execution_count": null,
      "outputs": [
        {
          "output_type": "execute_result",
          "data": {
            "text/plain": [
              "0        2017-11-13\n",
              "1        2017-11-12\n",
              "2        2017-11-13\n",
              "3        2017-11-12\n",
              "4        2017-11-12\n",
              "            ...    \n",
              "40835    2018-06-12\n",
              "40836    2018-06-13\n",
              "40837    2018-06-12\n",
              "40838    2018-06-11\n",
              "40839    2018-06-13\n",
              "Name: publish_date, Length: 40840, dtype: object"
            ]
          },
          "metadata": {
            "tags": []
          },
          "execution_count": 15
        }
      ]
    },
    {
      "cell_type": "code",
      "metadata": {
        "id": "C6lhVULOEUxh"
      },
      "source": [
        "df = df.drop(['publish_time',\"ratings_disabled\",'comments_disabled','video_error_or_removed'], axis=1)"
      ],
      "execution_count": null,
      "outputs": []
    },
    {
      "cell_type": "code",
      "metadata": {
        "id": "fS6AZwv5DEdT",
        "outputId": "ac4e6d10-120c-439b-a255-9ba54fe01f8a",
        "colab": {
          "base_uri": "https://localhost:8080/",
          "height": 261
        }
      },
      "source": [
        "df1=df.groupby('category_id').agg({'likes':[\"mean\"],'dislikes':[\"mean\"],'views':[\"mean\"],'comment_count':[\"mean\"]})\n",
        "df2=df1.sort_values(('views','mean'),ascending=False)\n",
        "df2=df2.iloc[:10,:]\n",
        "df2.style.background_gradient(cmap='Pastel2')"
      ],
      "execution_count": null,
      "outputs": [
        {
          "output_type": "execute_result",
          "data": {
            "text/html": [
              "<style  type=\"text/css\" >\n",
              "#T_af189050_0f24_11eb_a444_0242ac1c0002row0_col0,#T_af189050_0f24_11eb_a444_0242ac1c0002row0_col2,#T_af189050_0f24_11eb_a444_0242ac1c0002row6_col1,#T_af189050_0f24_11eb_a444_0242ac1c0002row6_col3{\n",
              "            background-color:  #cccccc;\n",
              "            color:  #000000;\n",
              "        }#T_af189050_0f24_11eb_a444_0242ac1c0002row0_col1,#T_af189050_0f24_11eb_a444_0242ac1c0002row3_col3{\n",
              "            background-color:  #cbd5e8;\n",
              "            color:  #000000;\n",
              "        }#T_af189050_0f24_11eb_a444_0242ac1c0002row0_col3{\n",
              "            background-color:  #f1e2cc;\n",
              "            color:  #000000;\n",
              "        }#T_af189050_0f24_11eb_a444_0242ac1c0002row1_col0,#T_af189050_0f24_11eb_a444_0242ac1c0002row2_col0,#T_af189050_0f24_11eb_a444_0242ac1c0002row2_col2,#T_af189050_0f24_11eb_a444_0242ac1c0002row3_col0,#T_af189050_0f24_11eb_a444_0242ac1c0002row3_col2,#T_af189050_0f24_11eb_a444_0242ac1c0002row4_col2,#T_af189050_0f24_11eb_a444_0242ac1c0002row5_col0,#T_af189050_0f24_11eb_a444_0242ac1c0002row5_col3,#T_af189050_0f24_11eb_a444_0242ac1c0002row9_col3{\n",
              "            background-color:  #fdcdac;\n",
              "            color:  #000000;\n",
              "        }#T_af189050_0f24_11eb_a444_0242ac1c0002row1_col1,#T_af189050_0f24_11eb_a444_0242ac1c0002row1_col3,#T_af189050_0f24_11eb_a444_0242ac1c0002row2_col1,#T_af189050_0f24_11eb_a444_0242ac1c0002row2_col3,#T_af189050_0f24_11eb_a444_0242ac1c0002row3_col1,#T_af189050_0f24_11eb_a444_0242ac1c0002row4_col0,#T_af189050_0f24_11eb_a444_0242ac1c0002row4_col1,#T_af189050_0f24_11eb_a444_0242ac1c0002row4_col3,#T_af189050_0f24_11eb_a444_0242ac1c0002row5_col1,#T_af189050_0f24_11eb_a444_0242ac1c0002row5_col2,#T_af189050_0f24_11eb_a444_0242ac1c0002row6_col2,#T_af189050_0f24_11eb_a444_0242ac1c0002row7_col0,#T_af189050_0f24_11eb_a444_0242ac1c0002row7_col1,#T_af189050_0f24_11eb_a444_0242ac1c0002row7_col2,#T_af189050_0f24_11eb_a444_0242ac1c0002row7_col3,#T_af189050_0f24_11eb_a444_0242ac1c0002row8_col0,#T_af189050_0f24_11eb_a444_0242ac1c0002row8_col1,#T_af189050_0f24_11eb_a444_0242ac1c0002row8_col2,#T_af189050_0f24_11eb_a444_0242ac1c0002row8_col3,#T_af189050_0f24_11eb_a444_0242ac1c0002row9_col0,#T_af189050_0f24_11eb_a444_0242ac1c0002row9_col1,#T_af189050_0f24_11eb_a444_0242ac1c0002row9_col2{\n",
              "            background-color:  #b3e2cd;\n",
              "            color:  #000000;\n",
              "        }#T_af189050_0f24_11eb_a444_0242ac1c0002row1_col2{\n",
              "            background-color:  #e6f5c9;\n",
              "            color:  #000000;\n",
              "        }#T_af189050_0f24_11eb_a444_0242ac1c0002row6_col0{\n",
              "            background-color:  #f4cae4;\n",
              "            color:  #000000;\n",
              "        }</style><table id=\"T_af189050_0f24_11eb_a444_0242ac1c0002\" ><thead>    <tr>        <th class=\"blank level0\" ></th>        <th class=\"col_heading level0 col0\" >likes</th>        <th class=\"col_heading level0 col1\" >dislikes</th>        <th class=\"col_heading level0 col2\" >views</th>        <th class=\"col_heading level0 col3\" >comment_count</th>    </tr>    <tr>        <th class=\"blank level1\" ></th>        <th class=\"col_heading level1 col0\" >mean</th>        <th class=\"col_heading level1 col1\" >mean</th>        <th class=\"col_heading level1 col2\" >mean</th>        <th class=\"col_heading level1 col3\" >mean</th>    </tr>    <tr>        <th class=\"index_name level0\" >category_id</th>        <th class=\"blank\" ></th>        <th class=\"blank\" ></th>        <th class=\"blank\" ></th>        <th class=\"blank\" ></th>    </tr></thead><tbody>\n",
              "                <tr>\n",
              "                        <th id=\"T_af189050_0f24_11eb_a444_0242ac1c0002level0_row0\" class=\"row_heading level0 row0\" >10</th>\n",
              "                        <td id=\"T_af189050_0f24_11eb_a444_0242ac1c0002row0_col0\" class=\"data row0 col0\" >126600.786678</td>\n",
              "                        <td id=\"T_af189050_0f24_11eb_a444_0242ac1c0002row0_col1\" class=\"data row0 col1\" >5474.362563</td>\n",
              "                        <td id=\"T_af189050_0f24_11eb_a444_0242ac1c0002row0_col2\" class=\"data row0 col2\" >2396235.516863</td>\n",
              "                        <td id=\"T_af189050_0f24_11eb_a444_0242ac1c0002row0_col3\" class=\"data row0 col3\" >12488.126476</td>\n",
              "            </tr>\n",
              "            <tr>\n",
              "                        <th id=\"T_af189050_0f24_11eb_a444_0242ac1c0002level0_row1\" class=\"row_heading level0 row1\" >30</th>\n",
              "                        <td id=\"T_af189050_0f24_11eb_a444_0242ac1c0002row1_col0\" class=\"data row1 col0\" >31917.000000</td>\n",
              "                        <td id=\"T_af189050_0f24_11eb_a444_0242ac1c0002row1_col1\" class=\"data row1 col1\" >1297.000000</td>\n",
              "                        <td id=\"T_af189050_0f24_11eb_a444_0242ac1c0002row1_col2\" class=\"data row1 col2\" >1535502.000000</td>\n",
              "                        <td id=\"T_af189050_0f24_11eb_a444_0242ac1c0002row1_col3\" class=\"data row1 col3\" >1624.500000</td>\n",
              "            </tr>\n",
              "            <tr>\n",
              "                        <th id=\"T_af189050_0f24_11eb_a444_0242ac1c0002level0_row2\" class=\"row_heading level0 row2\" >1</th>\n",
              "                        <td id=\"T_af189050_0f24_11eb_a444_0242ac1c0002row2_col0\" class=\"data row2 col0\" >19072.199495</td>\n",
              "                        <td id=\"T_af189050_0f24_11eb_a444_0242ac1c0002row2_col1\" class=\"data row2 col1\" >784.880471</td>\n",
              "                        <td id=\"T_af189050_0f24_11eb_a444_0242ac1c0002row2_col2\" class=\"data row2 col2\" >739555.696970</td>\n",
              "                        <td id=\"T_af189050_0f24_11eb_a444_0242ac1c0002row2_col3\" class=\"data row2 col3\" >2267.386785</td>\n",
              "            </tr>\n",
              "            <tr>\n",
              "                        <th id=\"T_af189050_0f24_11eb_a444_0242ac1c0002level0_row3\" class=\"row_heading level0 row3\" >28</th>\n",
              "                        <td id=\"T_af189050_0f24_11eb_a444_0242ac1c0002row3_col0\" class=\"data row3 col0\" >19073.037221</td>\n",
              "                        <td id=\"T_af189050_0f24_11eb_a444_0242ac1c0002row3_col1\" class=\"data row3 col1\" >914.596774</td>\n",
              "                        <td id=\"T_af189050_0f24_11eb_a444_0242ac1c0002row3_col2\" class=\"data row3 col2\" >710249.569479</td>\n",
              "                        <td id=\"T_af189050_0f24_11eb_a444_0242ac1c0002row3_col3\" class=\"data row3 col3\" >4271.573201</td>\n",
              "            </tr>\n",
              "            <tr>\n",
              "                        <th id=\"T_af189050_0f24_11eb_a444_0242ac1c0002level0_row4\" class=\"row_heading level0 row4\" >17</th>\n",
              "                        <td id=\"T_af189050_0f24_11eb_a444_0242ac1c0002row4_col0\" class=\"data row4 col0\" >13679.659520</td>\n",
              "                        <td id=\"T_af189050_0f24_11eb_a444_0242ac1c0002row4_col1\" class=\"data row4 col1\" >782.614462</td>\n",
              "                        <td id=\"T_af189050_0f24_11eb_a444_0242ac1c0002row4_col2\" class=\"data row4 col2\" >704284.984738</td>\n",
              "                        <td id=\"T_af189050_0f24_11eb_a444_0242ac1c0002row4_col3\" class=\"data row4 col3\" >1533.570131</td>\n",
              "            </tr>\n",
              "            <tr>\n",
              "                        <th id=\"T_af189050_0f24_11eb_a444_0242ac1c0002level0_row5\" class=\"row_heading level0 row5\" >23</th>\n",
              "                        <td id=\"T_af189050_0f24_11eb_a444_0242ac1c0002row5_col0\" class=\"data row5 col0\" >29513.577348</td>\n",
              "                        <td id=\"T_af189050_0f24_11eb_a444_0242ac1c0002row5_col1\" class=\"data row5 col1\" >1009.416338</td>\n",
              "                        <td id=\"T_af189050_0f24_11eb_a444_0242ac1c0002row5_col2\" class=\"data row5 col2\" >648049.784530</td>\n",
              "                        <td id=\"T_af189050_0f24_11eb_a444_0242ac1c0002row5_col3\" class=\"data row5 col3\" >3493.279006</td>\n",
              "            </tr>\n",
              "            <tr>\n",
              "                        <th id=\"T_af189050_0f24_11eb_a444_0242ac1c0002level0_row6\" class=\"row_heading level0 row6\" >29</th>\n",
              "                        <td id=\"T_af189050_0f24_11eb_a444_0242ac1c0002row6_col0\" class=\"data row6 col0\" >57034.972656</td>\n",
              "                        <td id=\"T_af189050_0f24_11eb_a444_0242ac1c0002row6_col1\" class=\"data row6 col1\" >15650.359375</td>\n",
              "                        <td id=\"T_af189050_0f24_11eb_a444_0242ac1c0002row6_col2\" class=\"data row6 col2\" >621727.062500</td>\n",
              "                        <td id=\"T_af189050_0f24_11eb_a444_0242ac1c0002row6_col3\" class=\"data row6 col3\" >15159.066406</td>\n",
              "            </tr>\n",
              "            <tr>\n",
              "                        <th id=\"T_af189050_0f24_11eb_a444_0242ac1c0002level0_row7\" class=\"row_heading level0 row7\" >24</th>\n",
              "                        <td id=\"T_af189050_0f24_11eb_a444_0242ac1c0002row7_col0\" class=\"data row7 col0\" >17509.303688</td>\n",
              "                        <td id=\"T_af189050_0f24_11eb_a444_0242ac1c0002row7_col1\" class=\"data row7 col1\" >1470.411588</td>\n",
              "                        <td id=\"T_af189050_0f24_11eb_a444_0242ac1c0002row7_col2\" class=\"data row7 col2\" >529861.280016</td>\n",
              "                        <td id=\"T_af189050_0f24_11eb_a444_0242ac1c0002row7_col3\" class=\"data row7 col3\" >2386.033024</td>\n",
              "            </tr>\n",
              "            <tr>\n",
              "                        <th id=\"T_af189050_0f24_11eb_a444_0242ac1c0002level0_row8\" class=\"row_heading level0 row8\" >43</th>\n",
              "                        <td id=\"T_af189050_0f24_11eb_a444_0242ac1c0002row8_col0\" class=\"data row8 col0\" >3540.364486</td>\n",
              "                        <td id=\"T_af189050_0f24_11eb_a444_0242ac1c0002row8_col1\" class=\"data row8 col1\" >923.205607</td>\n",
              "                        <td id=\"T_af189050_0f24_11eb_a444_0242ac1c0002row8_col2\" class=\"data row8 col2\" >475178.663551</td>\n",
              "                        <td id=\"T_af189050_0f24_11eb_a444_0242ac1c0002row8_col3\" class=\"data row8 col3\" >629.831776</td>\n",
              "            </tr>\n",
              "            <tr>\n",
              "                        <th id=\"T_af189050_0f24_11eb_a444_0242ac1c0002level0_row9\" class=\"row_heading level0 row9\" >20</th>\n",
              "                        <td id=\"T_af189050_0f24_11eb_a444_0242ac1c0002row9_col0\" class=\"data row9 col0\" >18446.185304</td>\n",
              "                        <td id=\"T_af189050_0f24_11eb_a444_0242ac1c0002row9_col1\" class=\"data row9 col1\" >1268.024281</td>\n",
              "                        <td id=\"T_af189050_0f24_11eb_a444_0242ac1c0002row9_col2\" class=\"data row9 col2\" >427703.548243</td>\n",
              "                        <td id=\"T_af189050_0f24_11eb_a444_0242ac1c0002row9_col3\" class=\"data row9 col3\" >3005.651757</td>\n",
              "            </tr>\n",
              "    </tbody></table>"
            ],
            "text/plain": [
              "<pandas.io.formats.style.Styler at 0x7f0377697128>"
            ]
          },
          "metadata": {
            "tags": []
          },
          "execution_count": 17
        }
      ]
    },
    {
      "cell_type": "code",
      "metadata": {
        "id": "jY6LCKzmN0Sq",
        "outputId": "002aa869-4827-40b5-a7d7-021c9963f7a4",
        "colab": {
          "base_uri": "https://localhost:8080/",
          "height": 72
        }
      },
      "source": [
        "\n",
        "toptrend=df.groupby('category')['category_id','views', 'likes','comment_count','dislikes'].apply(lambda x: x.astype(int).sum())\n"
      ],
      "execution_count": null,
      "outputs": [
        {
          "output_type": "stream",
          "text": [
            "/usr/local/lib/python3.6/dist-packages/ipykernel_launcher.py:2: FutureWarning: Indexing with multiple keys (implicitly converted to a tuple of keys) will be deprecated, use a list instead.\n",
            "  \n"
          ],
          "name": "stderr"
        }
      ]
    },
    {
      "cell_type": "code",
      "metadata": {
        "id": "5_P5BNuh1MEK",
        "outputId": "8d006032-901b-4f1c-e690-47634001272e",
        "colab": {
          "base_uri": "https://localhost:8080/",
          "height": 558
        }
      },
      "source": [
        "toptime=df.groupby('publish_hour')['views','likes'].apply(lambda x: x.astype(int).sum())\n",
        "\n",
        "toptime.style.background_gradient(cmap='Accent')"
      ],
      "execution_count": null,
      "outputs": [
        {
          "output_type": "stream",
          "text": [
            "/usr/local/lib/python3.6/dist-packages/ipykernel_launcher.py:1: FutureWarning: Indexing with multiple keys (implicitly converted to a tuple of keys) will be deprecated, use a list instead.\n",
            "  \"\"\"Entry point for launching an IPython kernel.\n"
          ],
          "name": "stderr"
        },
        {
          "output_type": "execute_result",
          "data": {
            "text/html": [
              "<style  type=\"text/css\" >\n",
              "#T_af281962_0f24_11eb_a444_0242ac1c0002row0_col0,#T_af281962_0f24_11eb_a444_0242ac1c0002row0_col1,#T_af281962_0f24_11eb_a444_0242ac1c0002row2_col0,#T_af281962_0f24_11eb_a444_0242ac1c0002row2_col1,#T_af281962_0f24_11eb_a444_0242ac1c0002row6_col0,#T_af281962_0f24_11eb_a444_0242ac1c0002row6_col1,#T_af281962_0f24_11eb_a444_0242ac1c0002row7_col0,#T_af281962_0f24_11eb_a444_0242ac1c0002row7_col1,#T_af281962_0f24_11eb_a444_0242ac1c0002row10_col0,#T_af281962_0f24_11eb_a444_0242ac1c0002row23_col0,#T_af281962_0f24_11eb_a444_0242ac1c0002row23_col1{\n",
              "            background-color:  #7fc97f;\n",
              "            color:  #000000;\n",
              "        }#T_af281962_0f24_11eb_a444_0242ac1c0002row1_col0,#T_af281962_0f24_11eb_a444_0242ac1c0002row1_col1,#T_af281962_0f24_11eb_a444_0242ac1c0002row3_col0,#T_af281962_0f24_11eb_a444_0242ac1c0002row3_col1,#T_af281962_0f24_11eb_a444_0242ac1c0002row8_col0,#T_af281962_0f24_11eb_a444_0242ac1c0002row8_col1,#T_af281962_0f24_11eb_a444_0242ac1c0002row10_col1{\n",
              "            background-color:  #beaed4;\n",
              "            color:  #000000;\n",
              "        }#T_af281962_0f24_11eb_a444_0242ac1c0002row4_col0,#T_af281962_0f24_11eb_a444_0242ac1c0002row4_col1,#T_af281962_0f24_11eb_a444_0242ac1c0002row5_col0,#T_af281962_0f24_11eb_a444_0242ac1c0002row5_col1,#T_af281962_0f24_11eb_a444_0242ac1c0002row9_col1,#T_af281962_0f24_11eb_a444_0242ac1c0002row21_col1{\n",
              "            background-color:  #386cb0;\n",
              "            color:  #f1f1f1;\n",
              "        }#T_af281962_0f24_11eb_a444_0242ac1c0002row9_col0,#T_af281962_0f24_11eb_a444_0242ac1c0002row11_col0,#T_af281962_0f24_11eb_a444_0242ac1c0002row11_col1{\n",
              "            background-color:  #fdc086;\n",
              "            color:  #000000;\n",
              "        }#T_af281962_0f24_11eb_a444_0242ac1c0002row12_col0,#T_af281962_0f24_11eb_a444_0242ac1c0002row12_col1,#T_af281962_0f24_11eb_a444_0242ac1c0002row19_col0,#T_af281962_0f24_11eb_a444_0242ac1c0002row19_col1,#T_af281962_0f24_11eb_a444_0242ac1c0002row20_col1,#T_af281962_0f24_11eb_a444_0242ac1c0002row22_col0,#T_af281962_0f24_11eb_a444_0242ac1c0002row22_col1{\n",
              "            background-color:  #ffff99;\n",
              "            color:  #000000;\n",
              "        }#T_af281962_0f24_11eb_a444_0242ac1c0002row13_col0,#T_af281962_0f24_11eb_a444_0242ac1c0002row13_col1,#T_af281962_0f24_11eb_a444_0242ac1c0002row14_col1,#T_af281962_0f24_11eb_a444_0242ac1c0002row15_col0{\n",
              "            background-color:  #bf5b17;\n",
              "            color:  #000000;\n",
              "        }#T_af281962_0f24_11eb_a444_0242ac1c0002row14_col0,#T_af281962_0f24_11eb_a444_0242ac1c0002row15_col1,#T_af281962_0f24_11eb_a444_0242ac1c0002row17_col0,#T_af281962_0f24_11eb_a444_0242ac1c0002row17_col1,#T_af281962_0f24_11eb_a444_0242ac1c0002row21_col0{\n",
              "            background-color:  #666666;\n",
              "            color:  #f1f1f1;\n",
              "        }#T_af281962_0f24_11eb_a444_0242ac1c0002row16_col0,#T_af281962_0f24_11eb_a444_0242ac1c0002row16_col1,#T_af281962_0f24_11eb_a444_0242ac1c0002row18_col0,#T_af281962_0f24_11eb_a444_0242ac1c0002row18_col1,#T_af281962_0f24_11eb_a444_0242ac1c0002row20_col0{\n",
              "            background-color:  #f0027f;\n",
              "            color:  #f1f1f1;\n",
              "        }</style><table id=\"T_af281962_0f24_11eb_a444_0242ac1c0002\" ><thead>    <tr>        <th class=\"blank level0\" ></th>        <th class=\"col_heading level0 col0\" >views</th>        <th class=\"col_heading level0 col1\" >likes</th>    </tr>    <tr>        <th class=\"index_name level0\" >publish_hour</th>        <th class=\"blank\" ></th>        <th class=\"blank\" ></th>    </tr></thead><tbody>\n",
              "                <tr>\n",
              "                        <th id=\"T_af281962_0f24_11eb_a444_0242ac1c0002level0_row0\" class=\"row_heading level0 row0\" >0</th>\n",
              "                        <td id=\"T_af281962_0f24_11eb_a444_0242ac1c0002row0_col0\" class=\"data row0 col0\" >406145353</td>\n",
              "                        <td id=\"T_af281962_0f24_11eb_a444_0242ac1c0002row0_col1\" class=\"data row0 col1\" >13370035</td>\n",
              "            </tr>\n",
              "            <tr>\n",
              "                        <th id=\"T_af281962_0f24_11eb_a444_0242ac1c0002level0_row1\" class=\"row_heading level0 row1\" >1</th>\n",
              "                        <td id=\"T_af281962_0f24_11eb_a444_0242ac1c0002row1_col0\" class=\"data row1 col0\" >668404303</td>\n",
              "                        <td id=\"T_af281962_0f24_11eb_a444_0242ac1c0002row1_col1\" class=\"data row1 col1\" >17917572</td>\n",
              "            </tr>\n",
              "            <tr>\n",
              "                        <th id=\"T_af281962_0f24_11eb_a444_0242ac1c0002level0_row2\" class=\"row_heading level0 row2\" >2</th>\n",
              "                        <td id=\"T_af281962_0f24_11eb_a444_0242ac1c0002row2_col0\" class=\"data row2 col0\" >447802567</td>\n",
              "                        <td id=\"T_af281962_0f24_11eb_a444_0242ac1c0002row2_col1\" class=\"data row2 col1\" >9660402</td>\n",
              "            </tr>\n",
              "            <tr>\n",
              "                        <th id=\"T_af281962_0f24_11eb_a444_0242ac1c0002level0_row3\" class=\"row_heading level0 row3\" >3</th>\n",
              "                        <td id=\"T_af281962_0f24_11eb_a444_0242ac1c0002row3_col0\" class=\"data row3 col0\" >727519197</td>\n",
              "                        <td id=\"T_af281962_0f24_11eb_a444_0242ac1c0002row3_col1\" class=\"data row3 col1\" >19609984</td>\n",
              "            </tr>\n",
              "            <tr>\n",
              "                        <th id=\"T_af281962_0f24_11eb_a444_0242ac1c0002level0_row4\" class=\"row_heading level0 row4\" >4</th>\n",
              "                        <td id=\"T_af281962_0f24_11eb_a444_0242ac1c0002row4_col0\" class=\"data row4 col0\" >1154292472</td>\n",
              "                        <td id=\"T_af281962_0f24_11eb_a444_0242ac1c0002row4_col1\" class=\"data row4 col1\" >47751808</td>\n",
              "            </tr>\n",
              "            <tr>\n",
              "                        <th id=\"T_af281962_0f24_11eb_a444_0242ac1c0002level0_row5\" class=\"row_heading level0 row5\" >5</th>\n",
              "                        <td id=\"T_af281962_0f24_11eb_a444_0242ac1c0002row5_col0\" class=\"data row5 col0\" >1254685364</td>\n",
              "                        <td id=\"T_af281962_0f24_11eb_a444_0242ac1c0002row5_col1\" class=\"data row5 col1\" >45848718</td>\n",
              "            </tr>\n",
              "            <tr>\n",
              "                        <th id=\"T_af281962_0f24_11eb_a444_0242ac1c0002level0_row6\" class=\"row_heading level0 row6\" >6</th>\n",
              "                        <td id=\"T_af281962_0f24_11eb_a444_0242ac1c0002row6_col0\" class=\"data row6 col0\" >575174785</td>\n",
              "                        <td id=\"T_af281962_0f24_11eb_a444_0242ac1c0002row6_col1\" class=\"data row6 col1\" >11419821</td>\n",
              "            </tr>\n",
              "            <tr>\n",
              "                        <th id=\"T_af281962_0f24_11eb_a444_0242ac1c0002level0_row7\" class=\"row_heading level0 row7\" >7</th>\n",
              "                        <td id=\"T_af281962_0f24_11eb_a444_0242ac1c0002row7_col0\" class=\"data row7 col0\" >561765089</td>\n",
              "                        <td id=\"T_af281962_0f24_11eb_a444_0242ac1c0002row7_col1\" class=\"data row7 col1\" >12899277</td>\n",
              "            </tr>\n",
              "            <tr>\n",
              "                        <th id=\"T_af281962_0f24_11eb_a444_0242ac1c0002level0_row8\" class=\"row_heading level0 row8\" >8</th>\n",
              "                        <td id=\"T_af281962_0f24_11eb_a444_0242ac1c0002row8_col0\" class=\"data row8 col0\" >670367460</td>\n",
              "                        <td id=\"T_af281962_0f24_11eb_a444_0242ac1c0002row8_col1\" class=\"data row8 col1\" >20455735</td>\n",
              "            </tr>\n",
              "            <tr>\n",
              "                        <th id=\"T_af281962_0f24_11eb_a444_0242ac1c0002level0_row9\" class=\"row_heading level0 row9\" >9</th>\n",
              "                        <td id=\"T_af281962_0f24_11eb_a444_0242ac1c0002row9_col0\" class=\"data row9 col0\" >824016776</td>\n",
              "                        <td id=\"T_af281962_0f24_11eb_a444_0242ac1c0002row9_col1\" class=\"data row9 col1\" >47375809</td>\n",
              "            </tr>\n",
              "            <tr>\n",
              "                        <th id=\"T_af281962_0f24_11eb_a444_0242ac1c0002level0_row10\" class=\"row_heading level0 row10\" >10</th>\n",
              "                        <td id=\"T_af281962_0f24_11eb_a444_0242ac1c0002row10_col0\" class=\"data row10 col0\" >543562882</td>\n",
              "                        <td id=\"T_af281962_0f24_11eb_a444_0242ac1c0002row10_col1\" class=\"data row10 col1\" >19879543</td>\n",
              "            </tr>\n",
              "            <tr>\n",
              "                        <th id=\"T_af281962_0f24_11eb_a444_0242ac1c0002level0_row11\" class=\"row_heading level0 row11\" >11</th>\n",
              "                        <td id=\"T_af281962_0f24_11eb_a444_0242ac1c0002row11_col0\" class=\"data row11 col0\" >867244164</td>\n",
              "                        <td id=\"T_af281962_0f24_11eb_a444_0242ac1c0002row11_col1\" class=\"data row11 col1\" >30120617</td>\n",
              "            </tr>\n",
              "            <tr>\n",
              "                        <th id=\"T_af281962_0f24_11eb_a444_0242ac1c0002level0_row12\" class=\"row_heading level0 row12\" >12</th>\n",
              "                        <td id=\"T_af281962_0f24_11eb_a444_0242ac1c0002row12_col0\" class=\"data row12 col0\" >943623203</td>\n",
              "                        <td id=\"T_af281962_0f24_11eb_a444_0242ac1c0002row12_col1\" class=\"data row12 col1\" >37322034</td>\n",
              "            </tr>\n",
              "            <tr>\n",
              "                        <th id=\"T_af281962_0f24_11eb_a444_0242ac1c0002level0_row13\" class=\"row_heading level0 row13\" >13</th>\n",
              "                        <td id=\"T_af281962_0f24_11eb_a444_0242ac1c0002row13_col0\" class=\"data row13 col0\" >1546602997</td>\n",
              "                        <td id=\"T_af281962_0f24_11eb_a444_0242ac1c0002row13_col1\" class=\"data row13 col1\" >59272496</td>\n",
              "            </tr>\n",
              "            <tr>\n",
              "                        <th id=\"T_af281962_0f24_11eb_a444_0242ac1c0002level0_row14\" class=\"row_heading level0 row14\" >14</th>\n",
              "                        <td id=\"T_af281962_0f24_11eb_a444_0242ac1c0002row14_col0\" class=\"data row14 col0\" >1658926060</td>\n",
              "                        <td id=\"T_af281962_0f24_11eb_a444_0242ac1c0002row14_col1\" class=\"data row14 col1\" >64523267</td>\n",
              "            </tr>\n",
              "            <tr>\n",
              "                        <th id=\"T_af281962_0f24_11eb_a444_0242ac1c0002level0_row15\" class=\"row_heading level0 row15\" >15</th>\n",
              "                        <td id=\"T_af281962_0f24_11eb_a444_0242ac1c0002row15_col0\" class=\"data row15 col0\" >1466949399</td>\n",
              "                        <td id=\"T_af281962_0f24_11eb_a444_0242ac1c0002row15_col1\" class=\"data row15 col1\" >73051782</td>\n",
              "            </tr>\n",
              "            <tr>\n",
              "                        <th id=\"T_af281962_0f24_11eb_a444_0242ac1c0002level0_row16\" class=\"row_heading level0 row16\" >16</th>\n",
              "                        <td id=\"T_af281962_0f24_11eb_a444_0242ac1c0002row16_col0\" class=\"data row16 col0\" >1323857605</td>\n",
              "                        <td id=\"T_af281962_0f24_11eb_a444_0242ac1c0002row16_col1\" class=\"data row16 col1\" >53920732</td>\n",
              "            </tr>\n",
              "            <tr>\n",
              "                        <th id=\"T_af281962_0f24_11eb_a444_0242ac1c0002level0_row17\" class=\"row_heading level0 row17\" >17</th>\n",
              "                        <td id=\"T_af281962_0f24_11eb_a444_0242ac1c0002row17_col0\" class=\"data row17 col0\" >1818682084</td>\n",
              "                        <td id=\"T_af281962_0f24_11eb_a444_0242ac1c0002row17_col1\" class=\"data row17 col1\" >74459391</td>\n",
              "            </tr>\n",
              "            <tr>\n",
              "                        <th id=\"T_af281962_0f24_11eb_a444_0242ac1c0002level0_row18\" class=\"row_heading level0 row18\" >18</th>\n",
              "                        <td id=\"T_af281962_0f24_11eb_a444_0242ac1c0002row18_col0\" class=\"data row18 col0\" >1336196729</td>\n",
              "                        <td id=\"T_af281962_0f24_11eb_a444_0242ac1c0002row18_col1\" class=\"data row18 col1\" >56721979</td>\n",
              "            </tr>\n",
              "            <tr>\n",
              "                        <th id=\"T_af281962_0f24_11eb_a444_0242ac1c0002level0_row19\" class=\"row_heading level0 row19\" >19</th>\n",
              "                        <td id=\"T_af281962_0f24_11eb_a444_0242ac1c0002row19_col0\" class=\"data row19 col0\" >1041968807</td>\n",
              "                        <td id=\"T_af281962_0f24_11eb_a444_0242ac1c0002row19_col1\" class=\"data row19 col1\" >39982843</td>\n",
              "            </tr>\n",
              "            <tr>\n",
              "                        <th id=\"T_af281962_0f24_11eb_a444_0242ac1c0002level0_row20\" class=\"row_heading level0 row20\" >20</th>\n",
              "                        <td id=\"T_af281962_0f24_11eb_a444_0242ac1c0002row20_col0\" class=\"data row20 col0\" >1386636726</td>\n",
              "                        <td id=\"T_af281962_0f24_11eb_a444_0242ac1c0002row20_col1\" class=\"data row20 col1\" >37648353</td>\n",
              "            </tr>\n",
              "            <tr>\n",
              "                        <th id=\"T_af281962_0f24_11eb_a444_0242ac1c0002level0_row21\" class=\"row_heading level0 row21\" >21</th>\n",
              "                        <td id=\"T_af281962_0f24_11eb_a444_0242ac1c0002row21_col0\" class=\"data row21 col0\" >1793685586</td>\n",
              "                        <td id=\"T_af281962_0f24_11eb_a444_0242ac1c0002row21_col1\" class=\"data row21 col1\" >43445337</td>\n",
              "            </tr>\n",
              "            <tr>\n",
              "                        <th id=\"T_af281962_0f24_11eb_a444_0242ac1c0002level0_row22\" class=\"row_heading level0 row22\" >22</th>\n",
              "                        <td id=\"T_af281962_0f24_11eb_a444_0242ac1c0002row22_col0\" class=\"data row22 col0\" >1054046352</td>\n",
              "                        <td id=\"T_af281962_0f24_11eb_a444_0242ac1c0002row22_col1\" class=\"data row22 col1\" >39357449</td>\n",
              "            </tr>\n",
              "            <tr>\n",
              "                        <th id=\"T_af281962_0f24_11eb_a444_0242ac1c0002level0_row23\" class=\"row_heading level0 row23\" >23</th>\n",
              "                        <td id=\"T_af281962_0f24_11eb_a444_0242ac1c0002row23_col0\" class=\"data row23 col0\" >572959245</td>\n",
              "                        <td id=\"T_af281962_0f24_11eb_a444_0242ac1c0002row23_col1\" class=\"data row23 col1\" >17380554</td>\n",
              "            </tr>\n",
              "    </tbody></table>"
            ],
            "text/plain": [
              "<pandas.io.formats.style.Styler at 0x7f0378819978>"
            ]
          },
          "metadata": {
            "tags": []
          },
          "execution_count": 19
        }
      ]
    },
    {
      "cell_type": "code",
      "metadata": {
        "id": "6guJnLKO2B6D",
        "outputId": "538c95f4-0c42-4ad1-b9dd-002e39840381",
        "colab": {
          "base_uri": "https://localhost:8080/",
          "height": 620
        }
      },
      "source": [
        "plt.figure(figsize=(10,10))\n",
        "sns.set_style(\"ticks\")\n",
        "ax = sns.barplot(x=toptime['views'].index,y=toptime['views'], data=toptime)\n",
        "plt.xlabel(\"\")\n",
        "plt.ylabel(\"Count\")"
      ],
      "execution_count": null,
      "outputs": [
        {
          "output_type": "execute_result",
          "data": {
            "text/plain": [
              "Text(0, 0.5, 'Count')"
            ]
          },
          "metadata": {
            "tags": []
          },
          "execution_count": 20
        },
        {
          "output_type": "display_data",
          "data": {
            "image/png": "[encoded data removed]",
            "text/plain": [
              "<Figure size 720x720 with 1 Axes>"
            ]
          },
          "metadata": {
            "tags": []
          }
        }
      ]
    },
    {
      "cell_type": "code",
      "metadata": {
        "id": "Ozlo-msD6N2g",
        "outputId": "93903119-392b-474e-c340-1d55b4021a5b",
        "colab": {
          "background_save": true,
          "base_uri": "https://localhost:8080/",
          "height": 182
        }
      },
      "source": [
        "time=pd.DataFrame(df.shape[0].index,df['publish_date'],df[\"trending_date\"])\n",
        "time"
      ],
      "execution_count": null,
      "outputs": [
        {
          "output_type": "execute_result",
          "data": {
            "text/html": [
              "<div>\n",
              "<style scoped>\n",
              "    .dataframe tbody tr th:only-of-type {\n",
              "        vertical-align: middle;\n",
              "    }\n",
              "\n",
              "    .dataframe tbody tr th {\n",
              "        vertical-align: top;\n",
              "    }\n",
              "\n",
              "    .dataframe thead th {\n",
              "        text-align: right;\n",
              "    }\n",
              "</style>\n",
              "<table border=\"1\" class=\"dataframe\">\n",
              "  <thead>\n",
              "    <tr style=\"text-align: right;\">\n",
              "      <th></th>\n",
              "      <th>publish_date</th>\n",
              "    </tr>\n",
              "    <tr>\n",
              "      <th>trending_date</th>\n",
              "      <th></th>\n",
              "    </tr>\n",
              "  </thead>\n",
              "  <tbody>\n",
              "    <tr>\n",
              "      <th>2017-11-14</th>\n",
              "      <td>NaN</td>\n",
              "    </tr>\n",
              "    <tr>\n",
              "      <th>2017-11-14</th>\n",
              "      <td>NaN</td>\n",
              "    </tr>\n",
              "    <tr>\n",
              "      <th>2017-11-14</th>\n",
              "      <td>NaN</td>\n",
              "    </tr>\n",
              "    <tr>\n",
              "      <th>2017-11-14</th>\n",
              "      <td>NaN</td>\n",
              "    </tr>\n",
              "    <tr>\n",
              "      <th>2017-11-14</th>\n",
              "      <td>NaN</td>\n",
              "    </tr>\n",
              "    <tr>\n",
              "      <th>...</th>\n",
              "      <td>...</td>\n",
              "    </tr>\n",
              "    <tr>\n",
              "      <th>2018-06-14</th>\n",
              "      <td>NaN</td>\n",
              "    </tr>\n",
              "    <tr>\n",
              "      <th>2018-06-14</th>\n",
              "      <td>NaN</td>\n",
              "    </tr>\n",
              "    <tr>\n",
              "      <th>2018-06-14</th>\n",
              "      <td>NaN</td>\n",
              "    </tr>\n",
              "    <tr>\n",
              "      <th>2018-06-14</th>\n",
              "      <td>NaN</td>\n",
              "    </tr>\n",
              "    <tr>\n",
              "      <th>2018-06-14</th>\n",
              "      <td>NaN</td>\n",
              "    </tr>\n",
              "  </tbody>\n",
              "</table>\n",
              "<p>40840 rows × 1 columns</p>\n",
              "</div>"
            ],
            "text/plain": [
              "              publish_date\n",
              "trending_date             \n",
              "2017-11-14             NaN\n",
              "2017-11-14             NaN\n",
              "2017-11-14             NaN\n",
              "2017-11-14             NaN\n",
              "2017-11-14             NaN\n",
              "...                    ...\n",
              "2018-06-14             NaN\n",
              "2018-06-14             NaN\n",
              "2018-06-14             NaN\n",
              "2018-06-14             NaN\n",
              "2018-06-14             NaN\n",
              "\n",
              "[40840 rows x 1 columns]"
            ]
          },
          "metadata": {
            "tags": []
          },
          "execution_count": 0
        }
      ]
    },
    {
      "cell_type": "code",
      "metadata": {
        "id": "LMCwCLsCKbOK",
        "outputId": "8c142edc-9bd2-4f01-af10-0fe4d844beaa",
        "colab": {
          "background_save": true
        }
      },
      "source": [
        "plt.figure(figsize=(10,10))\n",
        "sns.set_style(\"whitegrid\")\n",
        "ax = sns.barplot(x=toptrend['dislikes'].sort_values(ascending=False).iloc[:5,].index,y=toptrend['dislikes'].sort_values(ascending=False).iloc[:5,], data=toptrend)\n",
        "plt.xlabel(\"Video category\")\n",
        "plt.ylabel(\"Count\")\n",
        "plt.title(\"Top 5 Videos that dislikes maximum in Germany\")"
      ],
      "execution_count": null,
      "outputs": [
        {
          "output_type": "execute_result",
          "data": {
            "text/plain": [
              "Text(0.5, 1.0, 'Top 5 Videos that dislikes maximum in Germany')"
            ]
          },
          "metadata": {
            "tags": []
          },
          "execution_count": 0
        },
        {
          "output_type": "display_data",
          "data": {
            "image/png": "[encoded data removed]",
            "text/plain": [
              "<Figure size 720x720 with 1 Axes>"
            ]
          },
          "metadata": {
            "tags": []
          }
        }
      ]
    },
    {
      "cell_type": "code",
      "metadata": {
        "id": "lq8lHO_pmpLd",
        "outputId": "8ade2102-ec7b-4fe7-b9b2-cbf4add84391",
        "colab": {
          "background_save": true
        }
      },
      "source": [
        "plt.figure(figsize=(10,10))\n",
        "sns.set_style(\"whitegrid\")\n",
        "ax = sns.barplot(x=toptrend['likes'].sort_values(ascending=False).iloc[:5,].index,y=toptrend['likes'].sort_values(ascending=False).iloc[:5,], data=toptrend)\n",
        "plt.xlabel(\"Video category\")\n",
        "plt.ylabel(\"Count\")\n",
        "plt.title(\"Top 5 Videos that likes maximum in Germany\")"
      ],
      "execution_count": null,
      "outputs": [
        {
          "output_type": "execute_result",
          "data": {
            "text/plain": [
              "Text(0.5, 1.0, 'Top 5 Videos that likes maximum in Germany')"
            ]
          },
          "metadata": {
            "tags": []
          },
          "execution_count": 0
        },
        {
          "output_type": "display_data",
          "data": {
            "image/png": "[encoded data removed]",
            "text/plain": [
              "<Figure size 720x720 with 1 Axes>"
            ]
          },
          "metadata": {
            "tags": []
          }
        }
      ]
    },
    {
      "cell_type": "code",
      "metadata": {
        "id": "CkBhsGrInOPT",
        "outputId": "3659c169-68ee-4b4d-9601-f362d0d6dd8f",
        "colab": {
          "background_save": true
        }
      },
      "source": [
        "plt.figure(figsize=(10,10))\n",
        "sns.set_style(\"whitegrid\")\n",
        "ax = sns.barplot(x=toptrend['views'].sort_values(ascending=False).iloc[:5,].index,y=toptrend['views'].sort_values(ascending=False).iloc[:5,], data=toptrend)\n",
        "plt.xlabel(\"Video category\")\n",
        "plt.ylabel(\"Count\")\n",
        "plt.title(\"Top 5 Videos that views maximum in Germany\")"
      ],
      "execution_count": null,
      "outputs": [
        {
          "output_type": "execute_result",
          "data": {
            "text/plain": [
              "Text(0.5, 1.0, 'Top 5 Videos that views maximum in Germany')"
            ]
          },
          "metadata": {
            "tags": []
          },
          "execution_count": 0
        },
        {
          "output_type": "display_data",
          "data": {
            "image/png": "[encoded data removed]",
            "text/plain": [
              "<Figure size 720x720 with 1 Axes>"
            ]
          },
          "metadata": {
            "tags": []
          }
        }
      ]
    },
    {
      "cell_type": "code",
      "metadata": {
        "id": "K-R9LX35norq",
        "outputId": "f3d36c4c-9fc7-49f5-8f40-db0c2d973513",
        "colab": {
          "background_save": true
        }
      },
      "source": [
        "plt.figure(figsize=(10,10))\n",
        "sns.set_style(\"whitegrid\")\n",
        "ax = sns.barplot(x=toptrend['comment_count'].sort_values(ascending=False).iloc[:5,].index,y=toptrend['comment_count'].sort_values(ascending=False).iloc[:5,], data=toptrend)\n",
        "plt.xlabel(\"Video category\")\n",
        "plt.ylabel(\"Count\")\n",
        "plt.title(\"Top 5 Videos that comment maximum in Germany\")"
      ],
      "execution_count": null,
      "outputs": [
        {
          "output_type": "execute_result",
          "data": {
            "text/plain": [
              "Text(0.5, 1.0, 'Top 5 Videos that comment maximum in Germany')"
            ]
          },
          "metadata": {
            "tags": []
          },
          "execution_count": 0
        },
        {
          "output_type": "display_data",
          "data": {
            "image/png": "[encoded data removed]",
            "text/plain": [
              "<Figure size 720x720 with 1 Axes>"
            ]
          },
          "metadata": {
            "tags": []
          }
        }
      ]
    },
    {
      "cell_type": "code",
      "metadata": {
        "id": "QYBYH7H5nzV7",
        "outputId": "8dd2f2e0-a878-42cc-b7ad-ece06b64ec8d",
        "colab": {
          "background_save": true
        }
      },
      "source": [
        "plt.figure(figsize=(10,10))\n",
        "sns.set_style(\"whitegrid\")\n",
        "ax = sns.barplot(x=toptrend['category_id'].sort_values(ascending=False).iloc[:5,].index,y=toptrend['category_id'].sort_values(ascending=False).iloc[:5,], data=toptrend)\n",
        "plt.xlabel(\"Video category\")\n",
        "plt.ylabel(\"Count\")\n",
        "plt.title(\"Top 5 Videos that comment maximum in Germany\")"
      ],
      "execution_count": null,
      "outputs": [
        {
          "output_type": "execute_result",
          "data": {
            "text/plain": [
              "Text(0.5, 1.0, 'Top 5 Videos that comment maximum in Germany')"
            ]
          },
          "metadata": {
            "tags": []
          },
          "execution_count": 0
        },
        {
          "output_type": "display_data",
          "data": {
            "image/png": "[encoded data removed]",
            "text/plain": [
              "<Figure size 720x720 with 1 Axes>"
            ]
          },
          "metadata": {
            "tags": []
          }
        }
      ]
    }
  ]
}